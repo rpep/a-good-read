{
 "cells": [
  {
   "cell_type": "markdown",
   "id": "acc55b1c-c4a0-45d2-a954-263937982b8d",
   "metadata": {},
   "source": [
    "# Finding 'A Good Read' with Beautiful Soup and Llama 3 for RAG\n",
    "\n",
    "The BBC has an excellent radio programme called '[A Good Read](https://www.bbc.co.uk/programmes/b006v8jn)'. It first started 1977, and there have been hundreds of episodes, each of which has several celebrities and authors recommending a book each along with the host. Many episodes (though not all, the online archive goes back to roughly the early 1990s) are hosted for free to listen to on the BBC Sounds website. I often like to listen to it, but couldn't find anywhere that the books had been recommended were listed online. Because it's been around a long time, the format of the descriptions isn't consistent and at different points in time, there have been for e.g. more books recommended than at others. I decided to have a try and using Llama locally on my Macbook Pro M2 to try and extract the information. The source code for this post is [here](http://github.com/rpep/a-good-read)"
   ]
  },
  {
   "cell_type": "code",
   "execution_count": 1,
   "id": "675c44d8-ebb4-4d97-ac69-79473681e12f",
   "metadata": {},
   "outputs": [],
   "source": [
    "from bs4 import BeautifulSoup\n",
    "import requests\n",
    "import ollama\n",
    "import textwrap\n",
    "import tqdm\n",
    "import json\n",
    "import time\n",
    "import pandas as pd\n",
    "from itertools import chain"
   ]
  },
  {
   "cell_type": "markdown",
   "id": "473d8dd9-f9f8-4943-ab3c-96dd9b9f323a",
   "metadata": {},
   "source": [
    "I decided that perhaps the best chance of doing it was to pull the long form description of each episode. Because the back episodes are hosted on BBC iPlayer, I first had to scrape the actual URLs for each episode of a programme. Each programme has a URL key that describes it, so the following method will scrape the paginated list and return the URLs for each episode:"
   ]
  },
  {
   "cell_type": "code",
   "execution_count": 2,
   "id": "a712e236-4aac-409e-8b44-77124c881e45",
   "metadata": {},
   "outputs": [],
   "source": [
    "def find_episodes(programme_id):\n",
    "    \"\"\"\n",
    "    For a programme on BBC iPlayer with a URL:\n",
    "    https://www.bbc.co.uk/programmes/b006v8jn/episodes/player?page=1\n",
    "    the ID is \"b006v8jn\"\n",
    "    \"\"\"\n",
    "    page = 0\n",
    "    urls_list = []\n",
    "    while True:\n",
    "        page += 1\n",
    "        url = f\"https://www.bbc.co.uk/programmes/{programme_id}/episodes/player?page={page}\"\n",
    "        response = requests.get(url)\n",
    "        if response.status_code == 200:\n",
    "            html = response.content.decode(\"UTF-8\")\n",
    "            soup = BeautifulSoup(html, 'html.parser')\n",
    "            episodes = soup.find_all(\"div\", class_=\"programme__body\", recursive=True)\n",
    "            if len(episodes) == 0:\n",
    "                break\n",
    "            else:\n",
    "                for episode in episodes:\n",
    "                    url = episode.h2.a.attrs['href']\n",
    "                    urls_list.append(url)\n",
    "        else:\n",
    "            break\n",
    "    return urls_list\n",
    "    "
   ]
  },
  {
   "cell_type": "code",
   "execution_count": 3,
   "id": "23c20348-a8e9-484a-918a-c8c3e28714a8",
   "metadata": {},
   "outputs": [],
   "source": [
    "urls_list = find_episodes(\"b006v8jn\")"
   ]
  },
  {
   "cell_type": "markdown",
   "id": "aa6d2554-6453-4e24-8f24-beb25e0bbf8e",
   "metadata": {},
   "source": [
    "Checking that this has worked, we can see that it's pulled the episode list and identified 670 episodes as of the 21st June 2024."
   ]
  },
  {
   "cell_type": "code",
   "execution_count": 4,
   "id": "6d3532e2-4c6f-4415-8937-f8f80045c6b5",
   "metadata": {},
   "outputs": [
    {
     "name": "stdout",
     "output_type": "stream",
     "text": [
      "670 ['https://www.bbc.co.uk/programmes/m00209gs', 'https://www.bbc.co.uk/programmes/m00201xz', 'https://www.bbc.co.uk/programmes/m001zv34', 'https://www.bbc.co.uk/programmes/m001xm9r', 'https://www.bbc.co.uk/programmes/m001xd9g', 'https://www.bbc.co.uk/programmes/m001x4l7', 'https://www.bbc.co.uk/programmes/m001wxp4', 'https://www.bbc.co.uk/programmes/m001wqcc', 'https://www.bbc.co.uk/programmes/m001whhd', 'https://www.bbc.co.uk/programmes/m001w73r']\n"
     ]
    }
   ],
   "source": [
    "print(len(urls_list), urls_list[:10])"
   ]
  },
  {
   "cell_type": "markdown",
   "id": "a5484486-0d33-4c72-b645-49c447ed1078",
   "metadata": {},
   "source": [
    "The next step is to try and grab the descriptions. This proved to be a bit challenging as the pages have changed in content over time, but I was able to identify that on newer pages, the description was contained within a `div` called 'synopsis-toggle__long'. On older pages, it was contained within a div called 'longest-synopsis'. The following code just grabs the description text and strips out superflous newline characters:"
   ]
  },
  {
   "cell_type": "code",
   "execution_count": 5,
   "id": "937438b9-3d97-4e4a-8f6d-0205edbd7437",
   "metadata": {},
   "outputs": [],
   "source": [
    "texts = []\n",
    "for url in urls_list:\n",
    "    response = requests.get(url)\n",
    "    if response.status_code != 200:\n",
    "        print(\"error\")\n",
    "    html = response.content.decode(\"UTF-8\")\n",
    "    soup = BeautifulSoup(html, 'html.parser')\n",
    "    text = soup.find(\"div\", class_=\"synopsis-toggle__long\")\n",
    "    if not text:\n",
    "        text = soup.find(\"div\", class_=\"longest-synopsis\")\n",
    "    if not text:\n",
    "        print(f\"skipping url {url}\")\n",
    "        break\n",
    "    text = text.get_text().replace(\"\\n\", \" \").lstrip().rstrip()\n",
    "    texts.append(text)"
   ]
  },
  {
   "cell_type": "markdown",
   "id": "6d9c0695-fc6c-4023-ae82-a528948a523a",
   "metadata": {},
   "source": [
    "The list of episodes goes from most recent to oldest, so checking that everything worked, we can see that we've got here the episode description for [this](https://www.bbc.co.uk/programmes/m00209gs) episode which had Denise Mina and Simon Brett as guests."
   ]
  },
  {
   "cell_type": "code",
   "execution_count": 6,
   "id": "c6468f3b-5253-4178-90bd-797ea48262f1",
   "metadata": {},
   "outputs": [
    {
     "data": {
      "text/plain": [
       "\"ABSENT IN THE SPRING by Agatha Christie (writing as Mary Westmacott) (HarperCollins), chosen by Simon BrettIN THE GARDEN OF THE FUGITIVES by Ceridwen Dovey (Penguin), chosen by Denise MinaHIDE MY EYES by Margery Allingham (Penguin), chosen by Harriett Gilbert  Crime writers Denise Mina and Simon Brett join Harriett Gilbert to read each other's favourite books.  Simon Brett (Charles Paris, Fethering and Mrs Pargeter detective series) chooses Agatha Christie under the pseudonym Mary Westmacott, with Absent In The Spring. It’s a story without any detective and one that, perhaps, reveals a more personal side to Christie's writing.  Denise Mina (most recently: Three Fires, The Second Murderer) picks In the Garden of the Fugitives by South African-Australian author Ceridwen Dovey, an epistolary novel which begins with a letter that breaks seventeen years of silence between a rich, elderly man with a broken heart and his former protegee, a young South African filmmaker.  And for the occasion of having two crime authors, Harriett Gilbert picks a golden age crime book, Hide My Eyes by Margery Allingham, where private detective Albert Campion finds himself hunting down a serial killer. Producer: Eliza Lomas for BBC Audio in Bristol Join the conversation @agoodreadbbc Instagram  Show less\""
      ]
     },
     "execution_count": 6,
     "metadata": {},
     "output_type": "execute_result"
    }
   ],
   "source": [
    "texts[0]"
   ]
  },
  {
   "cell_type": "markdown",
   "id": "382c152a-e6f7-484f-8ba3-ffa6c9add8db",
   "metadata": {},
   "source": [
    "The hard part now is trying to extract the books. For this, I provide a prompt to the LLM, and instruct it to extract them, giving an example of the JSON format I would like it to return, using Llama 3's 8B instruct model and the very easy to set up [ollama](https://ollama.com/) to interface with it from Python. The system prompt below went through many iterations to get something that worked reliably, as I found that often superflous fields would appear in the JSON, the titles and authors were badly formatted or missing, authors were confused with the people recommending them, or books weren't found at all. I think that the common refrain I've seen people working with LLMs say of \"it's easy to get to 80%, but getting to >95% takes much much longer\" certainly matches my experience."
   ]
  },
  {
   "cell_type": "code",
   "execution_count": 7,
   "id": "64289147-4f9e-4b5e-94bd-3a9f20d15a32",
   "metadata": {},
   "outputs": [
    {
     "name": "stderr",
     "output_type": "stream",
     "text": [
      "670it [27:39,  2.48s/it]\n"
     ]
    }
   ],
   "source": [
    "responses = []\n",
    "for i, text in tqdm.tqdm(enumerate(texts)):\n",
    "    response = json.loads(\n",
    "        ollama.chat(\n",
    "            model='llama3:8b-instruct-q4_0',\n",
    "            messages=[\n",
    "                {\n",
    "                    'role': 'system',\n",
    "                    'content': textwrap.dedent(\n",
    "                        \"\"\"\\\n",
    "                        You are a librarian.\n",
    "                        You can read text from a description of a radio programme very carefully.\n",
    "                        and extract information about books from it. You should not include information about\n",
    "                        the people who are on the programme. You should only extract information about the books they have\n",
    "                        recommended. There are several books to extract from the text, not just one.\n",
    "                        You only return the author and title of books and no other information. \n",
    "                        If the book has been translated, do not include the translator.\n",
    "                        Your output should be a list of any detected books in JSON like this:\n",
    "                        \n",
    "                        {\"books\": [\n",
    "                            {\"author\": \"JRR Tolkien\", \"title\": \"Lord of the Rings\"},\n",
    "                            {\"author\": \"JK Rowling\", \"title\": \"Harry Potter and the Philosopher's Stone\"},\n",
    "                        ]}\n",
    "\n",
    "                        Fix any grammar issues. For e.g. ensure that everything has the correct capitalisation.\n",
    "                        \"\"\")\n",
    "                },\n",
    "                {\n",
    "                    'role': 'user',\n",
    "                    'content': text,\n",
    "                },\n",
    "            ], \n",
    "            format='json')['message']['content'])\n",
    "    responses.append(response)"
   ]
  },
  {
   "cell_type": "markdown",
   "id": "2c78f99b-236d-4841-a290-2a96ef47b0e2",
   "metadata": {},
   "source": [
    "The execution time for this was, as measured by TQDM, roughly 30 minutes for all 670 text descriptions."
   ]
  },
  {
   "cell_type": "markdown",
   "id": "62ca18d0-2527-4310-b2ea-702b7d9b044b",
   "metadata": {},
   "source": [
    "Grabbing the books themselves, we can see that we've found 1981. Older episodes have four books recommended, while newer ones have three, so this sounds roughly right."
   ]
  },
  {
   "cell_type": "code",
   "execution_count": 8,
   "id": "5ee140bd-1880-4c8a-91ac-ccdffcb11ed4",
   "metadata": {},
   "outputs": [
    {
     "data": {
      "text/plain": [
       "1986"
      ]
     },
     "execution_count": 8,
     "metadata": {},
     "output_type": "execute_result"
    }
   ],
   "source": [
    "books = [r['books'] for r in responses]\n",
    "books = list(chain.from_iterable(books))\n",
    "len(books)"
   ]
  },
  {
   "cell_type": "markdown",
   "id": "c745482f-7ebf-4e97-896f-c31cf623326b",
   "metadata": {},
   "source": [
    "We can dump the list to a file:"
   ]
  },
  {
   "cell_type": "code",
   "execution_count": 9,
   "id": "47bf29d5-18bf-4fd0-86d2-ee205f2bfbf5",
   "metadata": {},
   "outputs": [
    {
     "data": {
      "text/plain": [
       "122107"
      ]
     },
     "execution_count": 9,
     "metadata": {},
     "output_type": "execute_result"
    }
   ],
   "source": [
    "f = open(\"books.json\", 'w')\n",
    "f.write(json.dumps(books))"
   ]
  },
  {
   "cell_type": "markdown",
   "id": "5e4220a7-08dc-45b9-8d2d-d254b2cf93ba",
   "metadata": {},
   "source": [
    "(Briefly) inspecting this, we can see that we've mostly accurately pulled the books from the latest few episodes. "
   ]
  },
  {
   "cell_type": "code",
   "execution_count": 10,
   "id": "b1241487-131e-40eb-92dd-54af7a8bbe40",
   "metadata": {},
   "outputs": [
    {
     "data": {
      "text/plain": [
       "[{'author': 'Agatha Christie', 'title': 'Absent In The Spring'},\n",
       " {'author': 'Ceridwen Dovey', 'title': 'In the Garden of the Fugitives'},\n",
       " {'author': 'Margery Allingham', 'title': 'Hide My Eyes'},\n",
       " {'author': 'Barbara Pym', 'title': 'Quartet in Autumn'},\n",
       " {'author': 'Rachel Ingalls', 'title': 'Mrs Caliban'},\n",
       " {'author': 'Derek Jarman', 'title': 'Pharmacopoeia: A Dungeness Notebook'},\n",
       " {'author': 'Julian Barnes', 'title': \"Flaubert's Parrot\"},\n",
       " {'author': 'John Higgs', 'title': 'The KLF'},\n",
       " {'author': 'Maggie Nelson', 'title': 'The Red Parts'}]"
      ]
     },
     "execution_count": 10,
     "metadata": {},
     "output_type": "execute_result"
    }
   ],
   "source": [
    "books[:9]"
   ]
  },
  {
   "cell_type": "code",
   "execution_count": 11,
   "id": "43faeb93-c656-4196-803e-6f6124a96fe7",
   "metadata": {},
   "outputs": [
    {
     "data": {
      "text/plain": [
       "[\"ABSENT IN THE SPRING by Agatha Christie (writing as Mary Westmacott) (HarperCollins), chosen by Simon BrettIN THE GARDEN OF THE FUGITIVES by Ceridwen Dovey (Penguin), chosen by Denise MinaHIDE MY EYES by Margery Allingham (Penguin), chosen by Harriett Gilbert  Crime writers Denise Mina and Simon Brett join Harriett Gilbert to read each other's favourite books.  Simon Brett (Charles Paris, Fethering and Mrs Pargeter detective series) chooses Agatha Christie under the pseudonym Mary Westmacott, with Absent In The Spring. It’s a story without any detective and one that, perhaps, reveals a more personal side to Christie's writing.  Denise Mina (most recently: Three Fires, The Second Murderer) picks In the Garden of the Fugitives by South African-Australian author Ceridwen Dovey, an epistolary novel which begins with a letter that breaks seventeen years of silence between a rich, elderly man with a broken heart and his former protegee, a young South African filmmaker.  And for the occasion of having two crime authors, Harriett Gilbert picks a golden age crime book, Hide My Eyes by Margery Allingham, where private detective Albert Campion finds himself hunting down a serial killer. Producer: Eliza Lomas for BBC Audio in Bristol Join the conversation @agoodreadbbc Instagram  Show less\",\n",
       " \"QUARTET IN AUTUMN by Barbara Pym, chosen by Samantha Harvey MRS CALIBAN by Rachel Ingalls, chosen by Harriett GilbertPHARMACOPOEIA: A DUNGENESS NOTEBOOK by Derek Jarman, chosen by Darran Anderson Two award-winning writers share books they love with Harriett Gilbert. Samantha Harvey is the author of five novels, The Wilderness, All Is Song, Dear Thief ,The Western Wind and, most recently, Orbital. She is also the author of a memoir, The Shapeless Unease: A Year of Not Sleeping. Her choice of a good read is a slim novel by Barbara Pym set in 1970s London about the lives of four single people in their sixties who work in an office together. Quartet in Autumn is sharply perceptive about the ways in which we hide from one other and from ourselves. Darran Anderson is an Irish writer who lives in London. He is the author of Imaginary Cities: A Tour of Dream Cities, Nightmare Cities, and Everywhere in Between; a memoir, Inventory, about growing up during the Troubles; and the forthcoming In the Land of My Enemy. His choice, Pharmacopoeia, brings together fragments of the artist and filmmaker Derek Jarman's writing on nature, gardening and Prospect Cottage, his Victorian fisherman's hut on the shingle at Dungeness.  Harriett's choice is a fantastically strange novel by Rachel Ingalls, published in 1982. In Mrs Caliban, a grieving housewife in a loveless marriage embarks on a heady affair with a green-skinned frogman.  Produced by Mair Bosworth for BBC Audio  Show less\",\n",
       " \"Historian and author Kathryn Hughes and No Such Thing As a Fish presenter Dan Schreiber recommend favourite books to Harriett Gilbert. Kathryn chooses Flaubert's Parrot by Julian Barnes, an exploration of the French writer's life in the form of a novel. Dan's choice is very different - John Higgs taking on the conceptual artists and chart toppers The KLF. Harriett has gone for Michael Ondaatje's novel Warlight, set in a murky and mysterious post-war London. Presenter: Harriett Gilbert Producer for BBC Audio Bristol: Sally Heaven  Show less\"]"
      ]
     },
     "execution_count": 11,
     "metadata": {},
     "output_type": "execute_result"
    }
   ],
   "source": [
    "texts[:3]"
   ]
  },
  {
   "cell_type": "markdown",
   "id": "67ce0e39-eca7-4227-b312-9b08103e1959",
   "metadata": {},
   "source": [
    "Analysing the books with Pandas, we can check out whether any were recommended more than once, and what the most popular books were:"
   ]
  },
  {
   "cell_type": "code",
   "execution_count": 12,
   "id": "e9110e6b-2b34-4a3e-b5d9-8c67d9dc1230",
   "metadata": {},
   "outputs": [
    {
     "data": {
      "text/html": [
       "<div>\n",
       "<style scoped>\n",
       "    .dataframe tbody tr th:only-of-type {\n",
       "        vertical-align: middle;\n",
       "    }\n",
       "\n",
       "    .dataframe tbody tr th {\n",
       "        vertical-align: top;\n",
       "    }\n",
       "\n",
       "    .dataframe thead th {\n",
       "        text-align: right;\n",
       "    }\n",
       "</style>\n",
       "<table border=\"1\" class=\"dataframe\">\n",
       "  <thead>\n",
       "    <tr style=\"text-align: right;\">\n",
       "      <th></th>\n",
       "      <th>author</th>\n",
       "      <th>title</th>\n",
       "    </tr>\n",
       "  </thead>\n",
       "  <tbody>\n",
       "    <tr>\n",
       "      <th>0</th>\n",
       "      <td>Agatha Christie</td>\n",
       "      <td>Absent In The Spring</td>\n",
       "    </tr>\n",
       "    <tr>\n",
       "      <th>1</th>\n",
       "      <td>Ceridwen Dovey</td>\n",
       "      <td>In the Garden of the Fugitives</td>\n",
       "    </tr>\n",
       "    <tr>\n",
       "      <th>2</th>\n",
       "      <td>Margery Allingham</td>\n",
       "      <td>Hide My Eyes</td>\n",
       "    </tr>\n",
       "    <tr>\n",
       "      <th>3</th>\n",
       "      <td>Barbara Pym</td>\n",
       "      <td>Quartet in Autumn</td>\n",
       "    </tr>\n",
       "    <tr>\n",
       "      <th>4</th>\n",
       "      <td>Rachel Ingalls</td>\n",
       "      <td>Mrs Caliban</td>\n",
       "    </tr>\n",
       "    <tr>\n",
       "      <th>...</th>\n",
       "      <td>...</td>\n",
       "      <td>...</td>\n",
       "    </tr>\n",
       "    <tr>\n",
       "      <th>1981</th>\n",
       "      <td>Nawal El Sadawi</td>\n",
       "      <td>God Dies on the Nile</td>\n",
       "    </tr>\n",
       "    <tr>\n",
       "      <th>1982</th>\n",
       "      <td>Dick Francis</td>\n",
       "      <td>For Kicks</td>\n",
       "    </tr>\n",
       "    <tr>\n",
       "      <th>1983</th>\n",
       "      <td>Paul Auster</td>\n",
       "      <td>The New York Trilogy</td>\n",
       "    </tr>\n",
       "    <tr>\n",
       "      <th>1984</th>\n",
       "      <td>GM Fraser</td>\n",
       "      <td>Flashman at the Charge</td>\n",
       "    </tr>\n",
       "    <tr>\n",
       "      <th>1985</th>\n",
       "      <td>Anthony Trollope</td>\n",
       "      <td>The Small House at Allington</td>\n",
       "    </tr>\n",
       "  </tbody>\n",
       "</table>\n",
       "<p>1986 rows × 2 columns</p>\n",
       "</div>"
      ],
      "text/plain": [
       "                 author                           title\n",
       "0       Agatha Christie            Absent In The Spring\n",
       "1        Ceridwen Dovey  In the Garden of the Fugitives\n",
       "2     Margery Allingham                    Hide My Eyes\n",
       "3           Barbara Pym               Quartet in Autumn\n",
       "4        Rachel Ingalls                     Mrs Caliban\n",
       "...                 ...                             ...\n",
       "1981    Nawal El Sadawi            God Dies on the Nile\n",
       "1982       Dick Francis                       For Kicks\n",
       "1983        Paul Auster            The New York Trilogy\n",
       "1984          GM Fraser          Flashman at the Charge\n",
       "1985   Anthony Trollope    The Small House at Allington\n",
       "\n",
       "[1986 rows x 2 columns]"
      ]
     },
     "execution_count": 12,
     "metadata": {},
     "output_type": "execute_result"
    }
   ],
   "source": [
    "df = pd.DataFrame(books)\n",
    "df"
   ]
  },
  {
   "cell_type": "code",
   "execution_count": 13,
   "id": "2adce810-9242-48b8-8f21-500e7ba848dc",
   "metadata": {},
   "outputs": [
    {
     "data": {
      "text/plain": [
       "author              title                         \n",
       "Angela Carter       Wise Children                     4\n",
       "Jean Rhys           Wide Sargasso Sea                 4\n",
       "Patrick Hamilton    Hangover Square                   4\n",
       "F Scott Fitzgerald  The Great Gatsby                  4\n",
       "Chinua Achebe       Things Fall Apart                 3\n",
       "Dodie Smith         I Capture The Castle              3\n",
       "Evelyn Waugh        A Handful of Dust                 3\n",
       "Joan Didion         The Year of Magical Thinking      3\n",
       "Sam Selvon          The Lonely Londoners              3\n",
       "Robert Graves       Goodbye to All That               3\n",
       "Evelyn Waugh        Scoop                             3\n",
       "Graham Swift        Waterland                         3\n",
       "Bernhard Schlink    The Reader                        3\n",
       "Flann O'Brien       The Third Policeman               3\n",
       "Graham Greene       Monsignor Quixote                 3\n",
       "Muriel Spark        The Girls of Slender Means        3\n",
       "Barbara Pym         Excellent Women                   3\n",
       "Lorna Sage          Bad Blood                         3\n",
       "Annie Proulx        The Shipping News                 3\n",
       "Italo Calvino       Invisible Cities                  3\n",
       "Michael Frayn       Towards the End of the Morning    3\n",
       "Tobias Wolff        Old School                        3\n",
       "Kingsley Amis       Lucky Jim                         3\n",
       "Jerome K Jerome     Three Men in a Boat               2\n",
       "Jane Austen         Pride and Prejudice               2\n",
       "Name: count, dtype: int64"
      ]
     },
     "execution_count": 13,
     "metadata": {},
     "output_type": "execute_result"
    }
   ],
   "source": [
    "df.value_counts()[:25]"
   ]
  },
  {
   "cell_type": "markdown",
   "id": "afc833d6-0eaf-412c-8aa5-4616a7542b3b",
   "metadata": {},
   "source": [
    "We can do the same to find the most popular recommended authors:"
   ]
  },
  {
   "cell_type": "code",
   "execution_count": 14,
   "id": "7b49190a-3590-48f7-94eb-1f6ff625624c",
   "metadata": {},
   "outputs": [
    {
     "name": "stdout",
     "output_type": "stream",
     "text": [
      "author\n",
      "Graham Greene             15\n",
      "Evelyn Waugh              14\n",
      "Muriel Spark              12\n",
      "George Orwell             11\n",
      "John Steinbeck            10\n",
      "Michael Frayn              9\n",
      "Penelope Fitzgerald        9\n",
      "Angela Carter              9\n",
      "Ian McEwan                 9\n",
      "Vladimir Nabokov           8\n",
      "Anne Tyler                 8\n",
      "Patrick Hamilton           7\n",
      "Margaret Atwood            7\n",
      "Elizabeth Taylor           7\n",
      "Barbara Pym                7\n",
      "Philip Roth                7\n",
      "Henry James                6\n",
      "Gabriel Garcia Marquez     6\n",
      "Italo Calvino              6\n",
      "Kazuo Ishiguro             6\n",
      "Jean Rhys                  6\n",
      "Truman Capote              6\n",
      "Beryl Bainbridge           6\n",
      "PG Wodehouse               6\n",
      "Jane Austen                6\n",
      "Name: count, dtype: int64\n"
     ]
    }
   ],
   "source": [
    "print(df['author'].value_counts()[:25])"
   ]
  },
  {
   "cell_type": "markdown",
   "id": "ce170cfc-46ee-4113-8685-56d5bdc8e6d4",
   "metadata": {},
   "source": [
    "While I'm not sure I could ever get through the full list in my lifetime, it's certainly given me a few ideas for books to read outside of my typical sci-fi/fantasy comfort zone!"
   ]
  }
 ],
 "metadata": {
  "kernelspec": {
   "display_name": "Python 3 (ipykernel)",
   "language": "python",
   "name": "python3"
  },
  "language_info": {
   "codemirror_mode": {
    "name": "ipython",
    "version": 3
   },
   "file_extension": ".py",
   "mimetype": "text/x-python",
   "name": "python",
   "nbconvert_exporter": "python",
   "pygments_lexer": "ipython3",
   "version": "3.11.6"
  }
 },
 "nbformat": 4,
 "nbformat_minor": 5
}
